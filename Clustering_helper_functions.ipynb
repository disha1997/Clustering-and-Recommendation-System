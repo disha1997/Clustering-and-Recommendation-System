{
 "cells": [
  {
   "cell_type": "markdown",
   "metadata": {
    "colab_type": "text",
    "id": "NYqoIfuYfB9C"
   },
   "source": [
    "# <Font color='Red'>Importing packages </font>"
   ]
  },
  {
   "cell_type": "code",
   "execution_count": 1,
   "metadata": {
    "colab": {},
    "colab_type": "code",
    "id": "ZxFq72MXdFHh"
   },
   "outputs": [],
   "source": [
    "import networkx as nx # importing networkx library , networkx is used for  creation, manipulation, and study of the structure, dynamics, and functions of complex networks.\n",
    "# refer link : https://networkx.github.io/documentation/stable/ for more details"
   ]
  },
  {
   "cell_type": "markdown",
   "metadata": {
    "colab_type": "text",
    "id": "88gAV3NMyFZb"
   },
   "source": [
    "**Creating a empty graph**"
   ]
  },
  {
   "cell_type": "code",
   "execution_count": 2,
   "metadata": {
    "colab": {},
    "colab_type": "code",
    "id": "812gfHtMfg3S"
   },
   "outputs": [],
   "source": [
    "G=nx.Graph() # with nx.Graph(), we are creating a empty graph "
   ]
  },
  {
   "cell_type": "markdown",
   "metadata": {
    "colab_type": "text",
    "id": "bGxjdjj2yZMH"
   },
   "source": [
    "**Adding nodes to graph**"
   ]
  },
  {
   "cell_type": "code",
   "execution_count": 3,
   "metadata": {
    "colab": {},
    "colab_type": "code",
    "id": "wEzcJQwogQaV"
   },
   "outputs": [],
   "source": [
    "G.add_node(1) # we can add nodes to graphs using add_node \n",
    "# node can be either string or a number"
   ]
  },
  {
   "cell_type": "code",
   "execution_count": 4,
   "metadata": {
    "colab": {
     "base_uri": "https://localhost:8080/",
     "height": 248
    },
    "colab_type": "code",
    "id": "PSDYQGmcgXYs",
    "outputId": "646fe6f6-bd7c-4b0a-b9d4-eb3aca29f79d"
   },
   "outputs": [
    {
     "data": {
      "image/png": "[encoded data removed]",
      "text/plain": [
       "<Figure size 432x288 with 1 Axes>"
      ]
     },
     "metadata": {},
     "output_type": "display_data"
    }
   ],
   "source": [
    "nx.draw_networkx(G,node_color='lightGreen') #draw_networkX is used to display the graph\n",
    "#Here G is a graph\n",
    "# with node_color ,we will specify the color of node.\n",
    "# refer : https://networkx.github.io/documentation/networkx-1.9/reference/generated/networkx.drawing.nx_pylab.draw_networkx.html for more details."
   ]
  },
  {
   "cell_type": "code",
   "execution_count": 5,
   "metadata": {
    "colab": {},
    "colab_type": "code",
    "id": "gTbjn0WwhHjQ"
   },
   "outputs": [],
   "source": [
    "G.add_node('AAIC') # you can add string as a node\n",
    "G.add_node(2) "
   ]
  },
  {
   "cell_type": "code",
   "execution_count": 6,
   "metadata": {
    "colab": {
     "base_uri": "https://localhost:8080/",
     "height": 248
    },
    "colab_type": "code",
    "id": "a69LF4K9hMjV",
    "outputId": "91eec6e1-5e39-449a-9bb8-324470a79c1d"
   },
   "outputs": [
    {
     "data": {
      "image/png": "[encoded data removed]",
      "text/plain": [
       "<Figure size 432x288 with 1 Axes>"
      ]
     },
     "metadata": {},
     "output_type": "display_data"
    }
   ],
   "source": [
    "nx.draw_networkx(G,node_color='lightgreen')"
   ]
  },
  {
   "cell_type": "markdown",
   "metadata": {
    "colab_type": "text",
    "id": "h4oG-WqDzotE"
   },
   "source": [
    "**Adding edges between nodes**"
   ]
  },
  {
   "cell_type": "code",
   "execution_count": 7,
   "metadata": {
    "colab": {},
    "colab_type": "code",
    "id": "h_GPjeHAhsu8"
   },
   "outputs": [],
   "source": [
    "G.add_edge('AAIC',1)\n",
    "G.add_edge('AAIC',2)\n",
    "G.add_edge(2,1)\n",
    "# refer : https://networkx.github.io/documentation/stable/reference/classes/generated/networkx.Graph.add_edge.html for more details"
   ]
  },
  {
   "cell_type": "code",
   "execution_count": 8,
   "metadata": {
    "colab": {
     "base_uri": "https://localhost:8080/",
     "height": 248
    },
    "colab_type": "code",
    "id": "3AakRXPniV7y",
    "outputId": "dff74685-1c0f-4978-d1c6-002c965cbdc2"
   },
   "outputs": [
    {
     "name": "stderr",
     "output_type": "stream",
     "text": [
      "C:\\Users\\Disha\\anaconda3\\lib\\site-packages\\networkx\\drawing\\nx_pylab.py:579: MatplotlibDeprecationWarning: \n",
      "The iterable function was deprecated in Matplotlib 3.1 and will be removed in 3.3. Use np.iterable instead.\n",
      "  if not cb.iterable(width):\n"
     ]
    },
    {
     "data": {
      "image/png": "[encoded data removed]",
      "text/plain": [
       "<Figure size 432x288 with 1 Axes>"
      ]
     },
     "metadata": {},
     "output_type": "display_data"
    }
   ],
   "source": [
    "nx.draw_networkx(G,node_color='r')"
   ]
  },
  {
   "cell_type": "code",
   "execution_count": 9,
   "metadata": {
    "colab": {},
    "colab_type": "code",
    "id": "0T-mewGydfcB"
   },
   "outputs": [],
   "source": [
    "G=nx.Graph() # creating a empty graph\n",
    "G.add_edges_from([(1,2),(1,3),(1,4)])\n",
    "# with add_edges_from , we are adding nodes and edges to that nodes (if (1,2), then we are specifying that (1,2) are nodes and there is a edge between 1-->2)\n",
    "# refer : https://networkx.github.io/documentation/networkx-1.10/reference/generated/networkx.DiGraph.add_edges_from.html for more details."
   ]
  },
  {
   "cell_type": "code",
   "execution_count": 10,
   "metadata": {
    "colab": {
     "base_uri": "https://localhost:8080/",
     "height": 248
    },
    "colab_type": "code",
    "id": "fgk6rZQodt0K",
    "outputId": "eed28862-0be2-4684-8829-69e98288dde5"
   },
   "outputs": [
    {
     "data": {
      "image/png": "[encoded data removed]",
      "text/plain": [
       "<Figure size 432x288 with 1 Axes>"
      ]
     },
     "metadata": {},
     "output_type": "display_data"
    }
   ],
   "source": [
    "nx.draw_networkx(G,node_color='lightgreen')"
   ]
  },
  {
   "cell_type": "markdown",
   "metadata": {
    "colab_type": "text",
    "id": "Mona9Im70PYQ"
   },
   "source": [
    "**Number of nodes in graph**"
   ]
  },
  {
   "cell_type": "code",
   "execution_count": 11,
   "metadata": {
    "colab": {
     "base_uri": "https://localhost:8080/",
     "height": 34
    },
    "colab_type": "code",
    "id": "zRXbDuddetG_",
    "outputId": "1bb824cb-3147-4a05-a703-f83661840aa4"
   },
   "outputs": [
    {
     "data": {
      "text/plain": [
       "4"
      ]
     },
     "execution_count": 11,
     "metadata": {},
     "output_type": "execute_result"
    }
   ],
   "source": [
    "G.number_of_nodes() # number of nodes() will return the total number of nodes in our graph\n",
    "# in our graph , we have 4 nodes [1,2,3,4]\n",
    "# refer : https://networkx.github.io/documentation/networkx-1.10/reference/generated/networkx.DiGraph.number_of_nodes.html for more details."
   ]
  },
  {
   "cell_type": "markdown",
   "metadata": {
    "colab_type": "text",
    "id": "P9Btpn5l0fzd"
   },
   "source": [
    "**Number of edges in graph**"
   ]
  },
  {
   "cell_type": "code",
   "execution_count": 12,
   "metadata": {
    "colab": {
     "base_uri": "https://localhost:8080/",
     "height": 34
    },
    "colab_type": "code",
    "id": "1omXrtMkkIhc",
    "outputId": "c3837898-4bdc-4026-de2c-ff775d334e9c"
   },
   "outputs": [
    {
     "data": {
      "text/plain": [
       "3"
      ]
     },
     "execution_count": 12,
     "metadata": {},
     "output_type": "execute_result"
    }
   ],
   "source": [
    "G.number_of_edges() # number_of_edges() will return the total number of edges in our graph\n",
    "# in our graph, we have 3 edges [1-->2,1-->3,1-->4]\n",
    "# refer : https://networkx.github.io/documentation/networkx-1.10/reference/generated/networkx.DiGraph.number_of_edges.html for more details."
   ]
  },
  {
   "cell_type": "markdown",
   "metadata": {
    "colab_type": "text",
    "id": "xKprgTbH02Jl"
   },
   "source": [
    "**Nodes in graph**"
   ]
  },
  {
   "cell_type": "code",
   "execution_count": 13,
   "metadata": {
    "colab": {
     "base_uri": "https://localhost:8080/",
     "height": 34
    },
    "colab_type": "code",
    "id": "OCbLJoXWkiMR",
    "outputId": "1492685a-9ad9-4632-c57c-0303a90e15cd"
   },
   "outputs": [
    {
     "data": {
      "text/plain": [
       "NodeView((1, 2, 3, 4))"
      ]
     },
     "execution_count": 13,
     "metadata": {},
     "output_type": "execute_result"
    }
   ],
   "source": [
    "G.nodes() # nodes() will return all the nodes in our graph\n",
    "#refer : https://networkx.github.io/documentation/networkx-1.10/reference/generated/networkx.Graph.nodes.html for more details"
   ]
  },
  {
   "cell_type": "markdown",
   "metadata": {
    "colab_type": "text",
    "id": "afQ9dSdG1X45"
   },
   "source": [
    "**Edges in graph**"
   ]
  },
  {
   "cell_type": "code",
   "execution_count": 14,
   "metadata": {
    "colab": {
     "base_uri": "https://localhost:8080/",
     "height": 34
    },
    "colab_type": "code",
    "id": "0rfNo4iJkxFM",
    "outputId": "7e26c254-49e5-4d8c-e5af-490447ec80a1"
   },
   "outputs": [
    {
     "data": {
      "text/plain": [
       "EdgeView([(1, 2), (1, 3), (1, 4)])"
      ]
     },
     "execution_count": 14,
     "metadata": {},
     "output_type": "execute_result"
    }
   ],
   "source": [
    "G.edges() # will return all the edges in our graph\n",
    "# refer : https://networkx.github.io/documentation/networkx-1.10/reference/generated/networkx.Graph.edges.html for more details."
   ]
  },
  {
   "cell_type": "markdown",
   "metadata": {
    "colab_type": "text",
    "id": "Cf5ZO4JT1oC4"
   },
   "source": [
    "**Degree in graph**"
   ]
  },
  {
   "cell_type": "code",
   "execution_count": 15,
   "metadata": {
    "colab": {
     "base_uri": "https://localhost:8080/",
     "height": 34
    },
    "colab_type": "code",
    "id": "PeVA2X1Qk6I8",
    "outputId": "caa434a7-d2c9-42bc-a59c-4066d711eda6"
   },
   "outputs": [
    {
     "data": {
      "text/plain": [
       "DegreeView({1: 3, 2: 1, 3: 1, 4: 1})"
      ]
     },
     "execution_count": 15,
     "metadata": {},
     "output_type": "execute_result"
    }
   ],
   "source": [
    " G.degree() # degree() will return the key value pair [key --> node , value --> number of edges with that node ]\n",
    " #refer : https://networkx.github.io/documentation/networkx-1.10/reference/generated/networkx.DiGraph.degree.html for more details."
   ]
  },
  {
   "cell_type": "code",
   "execution_count": 16,
   "metadata": {
    "colab": {
     "base_uri": "https://localhost:8080/",
     "height": 34
    },
    "colab_type": "code",
    "id": "8nR0andalL6I",
    "outputId": "758e17b6-0ff1-4ee9-eee6-9a200d42416e"
   },
   "outputs": [
    {
     "data": {
      "text/plain": [
       "3"
      ]
     },
     "execution_count": 16,
     "metadata": {},
     "output_type": "execute_result"
    }
   ],
   "source": [
    "G.degree(1) # you can also find the number of edges with a node"
   ]
  },
  {
   "cell_type": "markdown",
   "metadata": {
    "colab_type": "text",
    "id": "WZGLNsDH17l5"
   },
   "source": [
    "**Neighbors in graph**"
   ]
  },
  {
   "cell_type": "code",
   "execution_count": 17,
   "metadata": {
    "colab": {
     "base_uri": "https://localhost:8080/",
     "height": 34
    },
    "colab_type": "code",
    "id": "sYjGnQfZmauL",
    "outputId": "55e8af4a-79d4-41b5-b9f8-8cdeced624ca"
   },
   "outputs": [
    {
     "data": {
      "text/plain": [
       "AtlasView({2: {}, 3: {}, 4: {}})"
      ]
     },
     "execution_count": 17,
     "metadata": {},
     "output_type": "execute_result"
    }
   ],
   "source": [
    "G[1] # G[node] will return the neighbours for that node\n",
    "#refer : https://networkx.github.io/documentation/networkx-1.10/reference/generated/networkx.Graph.neighbors.html for more details."
   ]
  },
  {
   "cell_type": "code",
   "execution_count": 18,
   "metadata": {
    "colab": {
     "base_uri": "https://localhost:8080/",
     "height": 34
    },
    "colab_type": "code",
    "id": "Jm52eWmTmoyX",
    "outputId": "df79eb3f-25f1-4c94-d0d5-0e2956ae68d2"
   },
   "outputs": [
    {
     "data": {
      "text/plain": [
       "AtlasView({1: {}})"
      ]
     },
     "execution_count": 18,
     "metadata": {},
     "output_type": "execute_result"
    }
   ],
   "source": [
    "G [2]"
   ]
  },
  {
   "cell_type": "code",
   "execution_count": 19,
   "metadata": {
    "colab": {
     "base_uri": "https://localhost:8080/",
     "height": 34
    },
    "colab_type": "code",
    "id": "uNEDxGl2m_5s",
    "outputId": "b98d9e23-52af-4fb8-d5eb-3133aaa9007a"
   },
   "outputs": [
    {
     "data": {
      "text/plain": [
       "3"
      ]
     },
     "execution_count": 19,
     "metadata": {},
     "output_type": "execute_result"
    }
   ],
   "source": [
    "len(G[1]) # total number of neighbors with that node"
   ]
  },
  {
   "cell_type": "markdown",
   "metadata": {
    "colab_type": "text",
    "id": "uD3kUqih2VVB"
   },
   "source": [
    "**Graph**"
   ]
  },
  {
   "cell_type": "code",
   "execution_count": 20,
   "metadata": {
    "colab": {
     "base_uri": "https://localhost:8080/",
     "height": 248
    },
    "colab_type": "code",
    "id": "5m_CKbuhr7WY",
    "outputId": "cf3d66be-5cf9-47e4-cc37-cc79abeae220"
   },
   "outputs": [
    {
     "data": {
      "image/png": "[encoded data removed]",
      "text/plain": [
       "<Figure size 432x288 with 1 Axes>"
      ]
     },
     "metadata": {},
     "output_type": "display_data"
    }
   ],
   "source": [
    "G=nx.Graph()\n",
    "G.add_edges_from([(2,3),(3,5),(1,2),(4,6),(6,5),(7,6),(3,2),(4,1),(3,1),(2,5),(6,1),(2,7),(7,3)])\n",
    "nx.draw_networkx(G,node_color='lightblue')"
   ]
  },
  {
   "cell_type": "markdown",
   "metadata": {
    "colab_type": "text",
    "id": "OyCnk5bO2dpv"
   },
   "source": [
    "**Ego_graph**"
   ]
  },
  {
   "cell_type": "code",
   "execution_count": 21,
   "metadata": {
    "colab": {},
    "colab_type": "code",
    "id": "eCPDjKHps3qi"
   },
   "outputs": [],
   "source": [
    "G1=nx.Graph() # creating a empty graph"
   ]
  },
  {
   "cell_type": "code",
   "execution_count": 22,
   "metadata": {
    "colab": {},
    "colab_type": "code",
    "id": "qJSxkc-ynKwg"
   },
   "outputs": [],
   "source": [
    "sub_graph1=nx.ego_graph(G,2) # with ego_graph , we can create subgraphs\n",
    "# refer https://networkx.github.io/documentation/stable/reference/generated/networkx.generators.ego.ego_graph.html  for more details"
   ]
  },
  {
   "cell_type": "code",
   "execution_count": 23,
   "metadata": {
    "colab": {
     "base_uri": "https://localhost:8080/",
     "height": 34
    },
    "colab_type": "code",
    "id": "xJgcqkQHnfd_",
    "outputId": "c96d17e7-864a-4e69-fa4e-d256b6907db8"
   },
   "outputs": [
    {
     "data": {
      "text/plain": [
       "NodeView((2, 3, 5, 1, 7))"
      ]
     },
     "execution_count": 23,
     "metadata": {},
     "output_type": "execute_result"
    }
   ],
   "source": [
    "sub_graph1.nodes()"
   ]
  },
  {
   "cell_type": "code",
   "execution_count": 24,
   "metadata": {
    "colab": {
     "base_uri": "https://localhost:8080/",
     "height": 248
    },
    "colab_type": "code",
    "id": "OBERxtExnhNw",
    "outputId": "12473625-f81a-43ae-9aaf-17e71543e934"
   },
   "outputs": [
    {
     "data": {
      "image/png": "[encoded data removed]",
      "text/plain": [
       "<Figure size 432x288 with 1 Axes>"
      ]
     },
     "metadata": {},
     "output_type": "display_data"
    }
   ],
   "source": [
    "nx.draw_networkx(sub_graph1,node_color='red') # displaying sub graph "
   ]
  },
  {
   "cell_type": "markdown",
   "metadata": {
    "colab_type": "text",
    "id": "DLrrw4x32kA1"
   },
   "source": [
    "**Adding nodes and edges of one graph to other graph**"
   ]
  },
  {
   "cell_type": "markdown",
   "metadata": {
    "colab_type": "text",
    "id": "5kMz1LbG3RyX"
   },
   "source": [
    " Combining two are more graphs: https://stackoverflow.com/a/32652764/4084039\""
   ]
  },
  {
   "cell_type": "code",
   "execution_count": 25,
   "metadata": {
    "colab": {},
    "colab_type": "code",
    "id": "Km1JAVhitGDo"
   },
   "outputs": [],
   "source": [
    "G1.add_nodes_from(sub_graph1.nodes) # adding nodes \n",
    "G1.add_edges_from(sub_graph1.edges()) # adding edges  "
   ]
  },
  {
   "cell_type": "code",
   "execution_count": 26,
   "metadata": {
    "colab": {},
    "colab_type": "code",
    "id": "0mXWazQen8lq"
   },
   "outputs": [],
   "source": [
    "sub_graph2=nx.ego_graph(G,1) # creating a sub graph "
   ]
  },
  {
   "cell_type": "code",
   "execution_count": 27,
   "metadata": {
    "colab": {
     "base_uri": "https://localhost:8080/",
     "height": 248
    },
    "colab_type": "code",
    "id": "N32NuhLCsw-7",
    "outputId": "5868b2cc-6fdc-40be-e7a1-9eafd11bc467"
   },
   "outputs": [
    {
     "data": {
      "image/png": "[encoded data removed]",
      "text/plain": [
       "<Figure size 432x288 with 1 Axes>"
      ]
     },
     "metadata": {},
     "output_type": "display_data"
    }
   ],
   "source": [
    "nx.draw_networkx(sub_graph2,node_color='red')"
   ]
  },
  {
   "cell_type": "markdown",
   "metadata": {
    "colab_type": "text",
    "id": "_PSyP_aG3XtC"
   },
   "source": [
    " Combining two are more graphs: https://stackoverflow.com/a/32652764/4084039"
   ]
  },
  {
   "cell_type": "code",
   "execution_count": 28,
   "metadata": {
    "colab": {},
    "colab_type": "code",
    "id": "rRD-wRTMsyky"
   },
   "outputs": [],
   "source": [
    "G1.add_nodes_from(sub_graph2.nodes) # adding edges\n",
    "G1.add_edges_from(sub_graph2.edges()) # adding edges  "
   ]
  },
  {
   "cell_type": "markdown",
   "metadata": {
    "colab_type": "text",
    "id": "AF7W7g903bH9"
   },
   "source": [
    "**Created graph (sub_graph1+sub_graph2)**"
   ]
  },
  {
   "cell_type": "code",
   "execution_count": 29,
   "metadata": {
    "colab": {
     "base_uri": "https://localhost:8080/",
     "height": 248
    },
    "colab_type": "code",
    "id": "5IhbZFJftcxQ",
    "outputId": "ee0d4f2d-a25f-4883-fe86-42330dafb5bc"
   },
   "outputs": [
    {
     "data": {
      "image/png": "[encoded data removed]",
      "text/plain": [
       "<Figure size 432x288 with 1 Axes>"
      ]
     },
     "metadata": {},
     "output_type": "display_data"
    }
   ],
   "source": [
    "nx.draw_networkx(G1,node_color='cyan')"
   ]
  },
  {
   "cell_type": "markdown",
   "metadata": {
    "colab_type": "text",
    "id": "SfGny28suVGM"
   },
   "source": [
    "**Please check <font color='blue'> https://networkx.github.io/documentation/networkx-1.10/tutorial/tutorial.html </font> for more details**"
   ]
  },
  {
   "cell_type": "code",
   "execution_count": null,
   "metadata": {},
   "outputs": [],
   "source": []
  }
 ],
 "metadata": {
  "colab": {
   "collapsed_sections": [],
   "name": "Clustering helper functions.ipynb",
   "provenance": []
  },
  "kernelspec": {
   "display_name": "Python 3",
   "language": "python",
   "name": "python3"
  },
  "language_info": {
   "codemirror_mode": {
    "name": "ipython",
    "version": 3
   },
   "file_extension": ".py",
   "mimetype": "text/x-python",
   "name": "python",
   "nbconvert_exporter": "python",
   "pygments_lexer": "ipython3",
   "version": "3.8.3"
  }
 },
 "nbformat": 4,
 "nbformat_minor": 1
}
